{
 "cells": [
  {
   "cell_type": "mark# %% [markdown]
# # Retail Business Project
# 
# Ok, so today we'll be working with the transactions, product, and hh_demographic tables in the project_data folder.
# 
# * First, read in the transactions data.
# 
# * Read in the only columns `household_key`, `BASKET_ID`, `DAY`, `PRODUCT_ID`, `QUANTITY`, and `SALES_VALUE`.
# 
# * Convert `DAY`, `QUANTITY`, and `PRODUCT_ID` to the smallest appropriate integer types.
# 

# %%
import pandas as pd
import numpy as np

# %%
path = "../project_data/project_transactions.csv"

# specify columns to keep
cols = ["household_key", "BASKET_ID", "DAY", "PRODUCT_ID", "QUANTITY", "SALES_VALUE"]

# specify datatypes to convert
dtypes = {"DAY": "Int16", "QUANTITY": "Int32", "PRODUCT_ID": "Int32"}

transactions = pd.read_csv(path,
                           dtype=dtypes,
                           usecols=cols
                          )

# %%
transactions.describe().round()

# %%
transactions.info(memory_usage="deep")

# %%
transactions = (transactions
                .assign(date = 
                        (pd.to_datetime("2021", format='%Y') 
                        + pd.to_timedelta(transactions["DAY"].sub(1).astype(str) + " days"))
                       )
                .drop(["DAY"], axis=1)
               )

# %%
transactions.head()

# %% [markdown]
# ## TIME BASED ANALYSIS
# 
# * Plot the sum of sales by month. Are sales growing over time?
# * Next, plot the same series after filtering down to dates April 2021 and October 2022.
# * Then, plot the sum of monthly sales in 2021 vs the monthly sales 2022.
# * Finally, plot total sales by day of week.

# %%
(transactions.set_index("date")
 .loc[:, "SALES_VALUE"]
 .resample("M")
 .sum()
 .plot())

# %%
(transactions
 .set_index("date")
 .loc["2021-04":"2022-10", "SALES_VALUE"]
 .resample("M")
 .sum()
 .plot())

# %%
(transactions
 .set_index("date")
 .loc[:, ["SALES_VALUE"]]
 .resample("M")
 .sum()
 .assign(year_prior = lambda x: x["SALES_VALUE"].shift(12))
 .loc["2022"]
 .plot()
)

# %%
(transactions
 .groupby(transactions["date"].dt.dayofweek)
 .agg({"SALES_VALUE": "sum"})
 .plot.bar()
)

# %% [markdown]
# # DEMOGRAPHICS
# 
# * Read in the `hh_demographic.csv` file, but only the columns `AGE_DESC`, `INCOME_DESC`, `household_key`, and `HH_COMP_DESC`. Convert the appropriate columns to the category dtype.
# 
# 
# * Then group the transactions table by household_id, and calculate the sum of SALES VALUE by household.
# 
# 
# * Once you've done that, join the demographics DataFrame to the aggregated transactions table. Since we're interested in analyzing the demographic data we have, make sure not to include rows from transactions that don't match.
# 
# 
# * Plot the sum of sales by age_desc and income_desc (in separate charts).
# 
# 
# * Then, create a pivot table of the mean household sales by `AGE_DESC` and `HH_COMP_DESC`. Which of our demographics have the highest average sales?
# 

# %%
dem_cols = ["AGE_DESC", "INCOME_DESC", "household_key", "HH_COMP_DESC"]

dem_dtypes = {"AGE_DESC": "category", "INCOME_DESC": "category", "HH_COMP_DESC":"category"}

demographics = pd.read_csv('../project_data/hh_demographic.csv',
                          usecols=dem_cols,
                          dtype=dem_dtypes
                          )

# %%
demographics.head()

# %%
demographics.info(memory_usage="deep")

# %%
household_sales = (transactions
                   .groupby("household_key")
                   .agg({"SALES_VALUE": "sum"})
                  )

household_sales

# %%
household_sales_demo = (household_sales.merge(demographics, 
                             how="inner",
                             left_on='household_key',
                             right_on="household_key",
                             )
                       )

# %%
household_sales_demo.info(memory_usage="deep")

# %%
#can use a line but I'll come back to this one

(household_sales_demo
.groupby(["AGE_DESC"])
.agg({"SALES_VALUE": "sum"})
.plot.bar()
)

# %%
#sales by income

(household_sales_demo
 .groupby(["INCOME_DESC"])
 .agg({"SALES_VALUE": "sum"})
 .sort_values("SALES_VALUE", ascending=False)
 .plot.bar())

# %%
#heatmap of mean household spend by mean

(household_sales_demo.pivot_table(index="AGE_DESC", 
                 columns="HH_COMP_DESC",
                 values="SALES_VALUE",
                 aggfunc="mean",
                 margins=True)
 .style.background_gradient(cmap="RdYlGn", axis=None)
)

# %%
#drop dfs

del [household_sales_demo, household_sales]

# %%


# %% [markdown]
# # PRODUCT DEMOGRAPHICS
# 
# * Read in the product csv file.
# 
# * Only read in product_id and department from product (consider converting columns).
# 
# * Join the product DataFrame to transactions and demographics tables, performing an inner join when joining both tables.
# 
# * Finally, pivot the fully joined dataframe by AGE_DESC and DEPARTMENT, calculating the sum of sales. Which category does our youngest demographic perform well in?
# 
# 

# %%
# specify columns to use
product_cols = ["PRODUCT_ID", "DEPARTMENT"]

product_dtypes = {"PRODUCT_ID": "Int32", "DEPARTMENT": "category"}

product = pd.read_csv('../project_data/product.csv',
                     usecols=product_cols,
                     dtype=product_dtypes
                     )

# %%
product.dtypes

# %%
trans_demo_dept = (transactions
                  .merge(demographics, 
                         how="inner",
                         left_on='household_key',
                         right_on="household_key",)
                  .merge(product,
                         how="inner",
                         left_on="PRODUCT_ID",
                         right_on="PRODUCT_ID")
             
             )

# %%
trans_demo_dept.info(memory_usage="deep")

# %% [markdown]
# # Heatmap 
# The below table shows the youngest consumers

# %%
(trans_demo_dept.pivot_table(index="DEPARTMENT",
                            columns="AGE_DESC",
                            values="SALES_VALUE",
                            aggfunc="sum")
 .style.background_gradient(cmap="RdYlGn", axis=1))

# %% [markdown]
# # Conclusion
# The retail business data analsis has been concluded. The heatmap shows the mean age group that dominates sales most of the product departments is 45-54. One surprising department or maybe not that surprising where the youngest demographic dominates is the spirits department (alcohol). Maybe this is unethical but if we want to continue to market them, we can find deals and promotions to keep them to coming for more product segments instore. There are more insights that the strategy team will glean from this pivot table.
# 
# Targeted advertisement about promotions to boost sales for departements and to discontinue departments that no longer generate revenue can be easily found in this heatmap.

# %%
